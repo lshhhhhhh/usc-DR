{
 "cells": [
  {
   "cell_type": "code",
   "execution_count": 1,
   "metadata": {},
   "outputs": [],
   "source": [
    "def representative_sample(z_score=2.576,p=0.5,N=5000,MOE=0.5):\n",
    "    X=z_score*z_score*p*(1-p)/MOE/MOE \n",
    "    n=N*X/(X+N-1)\n",
    "    return n"
   ]
  },
  {
   "cell_type": "code",
   "execution_count": 30,
   "metadata": {},
   "outputs": [
    {
     "name": "stderr",
     "output_type": "stream",
     "text": [
      "2021-10-14 22:01:24,613 [INFO] Base - Searching for app id\n",
      "2021-10-14 22:01:25,440 [INFO] Base - Initialised: AppStore('us', 'minecraft', 479516143)\n",
      "2021-10-14 22:01:25,441 [INFO] Base - Ready to fetch reviews from: https://apps.apple.com/us/app/minecraft/id479516143\n",
      "2021-10-14 22:01:43,814 [INFO] Base - [id:479516143] Fetched 20 reviews (20 fetched in total)\n",
      "2021-10-14 22:01:44,149 [INFO] Base - [id:479516143] Fetched 80 reviews (80 fetched in total)\n"
     ]
    }
   ],
   "source": [
    "#pip3 install app-store-scraper\n",
    "\n",
    "\n",
    "from app_store_scraper import AppStore\n",
    "import numpy as np\n",
    "import pandas as pd\n",
    "app_list=[\"minecraft\"]\n",
    "for app_name in app_list:\n",
    "    app= AppStore(country=\"us\", app_name=app_name)\n",
    "    #set parameter to set the reviews we want to fetch;default to set all reviews\n",
    "    app.review(how_many=80)\n",
    "\n",
    "    #calculate the amount of representative sample\n",
    "    total_numer=app.reviews_count\n",
    "    sample_size=representative_sample(N=total_numer)\n",
    "\n",
    "    #randomly sample the reviews we need\n",
    "    sample_reviews=np.random.choice(app.reviews,(int)(sample_size))\n",
    "\n",
    "\n",
    "    #save to .csv\n",
    "    sample_reviews=list(sample_reviews)\n",
    "    df=pd.DataFrame(sample_reviews)\n",
    "    df.to_csv(app_name+\".csv\",sep=\"\\t\",header=True)\n",
    "\n"
   ]
  },
  {
   "cell_type": "code",
   "execution_count": 28,
   "metadata": {},
   "outputs": [
    {
     "data": {
      "text/html": [
       "<div>\n",
       "<style scoped>\n",
       "    .dataframe tbody tr th:only-of-type {\n",
       "        vertical-align: middle;\n",
       "    }\n",
       "\n",
       "    .dataframe tbody tr th {\n",
       "        vertical-align: top;\n",
       "    }\n",
       "\n",
       "    .dataframe thead th {\n",
       "        text-align: right;\n",
       "    }\n",
       "</style>\n",
       "<table border=\"1\" class=\"dataframe\">\n",
       "  <thead>\n",
       "    <tr style=\"text-align: right;\">\n",
       "      <th></th>\n",
       "      <th>review</th>\n",
       "      <th>rating</th>\n",
       "      <th>title</th>\n",
       "      <th>date</th>\n",
       "      <th>isEdited</th>\n",
       "      <th>userName</th>\n",
       "    </tr>\n",
       "  </thead>\n",
       "  <tbody>\n",
       "    <tr>\n",
       "      <th>0</th>\n",
       "      <td>I love Minecraft! I’ve been playing it since I...</td>\n",
       "      <td>5</td>\n",
       "      <td>Minecraft is an amazing game!!💕💕</td>\n",
       "      <td>2019-09-16 01:18:31</td>\n",
       "      <td>False</td>\n",
       "      <td>💕Minecraft</td>\n",
       "    </tr>\n",
       "    <tr>\n",
       "      <th>1</th>\n",
       "      <td>Dear Mojang,\\n\\nI’ve been playing Minecraft fo...</td>\n",
       "      <td>4</td>\n",
       "      <td>I love it but..</td>\n",
       "      <td>2020-06-02 19:30:11</td>\n",
       "      <td>False</td>\n",
       "      <td>annelise_h</td>\n",
       "    </tr>\n",
       "    <tr>\n",
       "      <th>2</th>\n",
       "      <td>You know how you add so many new mods and crea...</td>\n",
       "      <td>5</td>\n",
       "      <td>This game is great but....</td>\n",
       "      <td>2020-09-25 23:50:58</td>\n",
       "      <td>False</td>\n",
       "      <td>😅look see</td>\n",
       "    </tr>\n",
       "    <tr>\n",
       "      <th>3</th>\n",
       "      <td>I absolutely love Minecraft but I don’t love t...</td>\n",
       "      <td>4</td>\n",
       "      <td>I LOVE Minecraft but....</td>\n",
       "      <td>2018-04-06 02:01:04</td>\n",
       "      <td>False</td>\n",
       "      <td>D00-D00</td>\n",
       "    </tr>\n",
       "    <tr>\n",
       "      <th>4</th>\n",
       "      <td>FRIST: l would really like if mojang added bea...</td>\n",
       "      <td>5</td>\n",
       "      <td>Best game ever made but I would like to add so...</td>\n",
       "      <td>2018-07-29 05:14:32</td>\n",
       "      <td>False</td>\n",
       "      <td>Thc 420 92</td>\n",
       "    </tr>\n",
       "    <tr>\n",
       "      <th>5</th>\n",
       "      <td>I started Minecraft on the Aquatic update and ...</td>\n",
       "      <td>5</td>\n",
       "      <td>Minecraft is so good but needs new mods in a f...</td>\n",
       "      <td>2021-09-04 15:07:03</td>\n",
       "      <td>False</td>\n",
       "      <td>dgc&amp;b</td>\n",
       "    </tr>\n",
       "  </tbody>\n",
       "</table>\n",
       "</div>"
      ],
      "text/plain": [
       "                                              review  rating  \\\n",
       "0  I love Minecraft! I’ve been playing it since I...       5   \n",
       "1  Dear Mojang,\\n\\nI’ve been playing Minecraft fo...       4   \n",
       "2  You know how you add so many new mods and crea...       5   \n",
       "3  I absolutely love Minecraft but I don’t love t...       4   \n",
       "4  FRIST: l would really like if mojang added bea...       5   \n",
       "5  I started Minecraft on the Aquatic update and ...       5   \n",
       "\n",
       "                                               title                date  \\\n",
       "0                   Minecraft is an amazing game!!💕💕 2019-09-16 01:18:31   \n",
       "1                                    I love it but.. 2020-06-02 19:30:11   \n",
       "2                         This game is great but.... 2020-09-25 23:50:58   \n",
       "3                           I LOVE Minecraft but.... 2018-04-06 02:01:04   \n",
       "4  Best game ever made but I would like to add so... 2018-07-29 05:14:32   \n",
       "5  Minecraft is so good but needs new mods in a f... 2021-09-04 15:07:03   \n",
       "\n",
       "   isEdited    userName  \n",
       "0     False  💕Minecraft  \n",
       "1     False  annelise_h  \n",
       "2     False   😅look see  \n",
       "3     False     D00-D00  \n",
       "4     False  Thc 420 92  \n",
       "5     False       dgc&b  "
      ]
     },
     "execution_count": 28,
     "metadata": {},
     "output_type": "execute_result"
    }
   ],
   "source": [
    "df"
   ]
  }
 ],
 "metadata": {
  "interpreter": {
   "hash": "3dbff40183676622c101b5bcc1d6adf1c4ef4effe3274b7be2981d17309fb5c9"
  },
  "kernelspec": {
   "display_name": "Python 3.8.11 64-bit ('unpaid': conda)",
   "name": "python3"
  },
  "language_info": {
   "codemirror_mode": {
    "name": "ipython",
    "version": 3
   },
   "file_extension": ".py",
   "mimetype": "text/x-python",
   "name": "python",
   "nbconvert_exporter": "python",
   "pygments_lexer": "ipython3",
   "version": "3.8.11"
  },
  "orig_nbformat": 4
 },
 "nbformat": 4,
 "nbformat_minor": 2
}
