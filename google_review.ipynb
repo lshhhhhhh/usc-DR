{
 "cells": [
  {
   "cell_type": "code",
   "execution_count": 10,
   "source": [
    "from google_play_scraper import Sort, reviews, app\r\n",
    "import pandas as pd\r\n",
    "#https://github.com/JoMingyu/google-play-scraper"
   ],
   "outputs": [],
   "metadata": {}
  },
  {
   "cell_type": "code",
   "execution_count": 15,
   "source": [
    "app_packages = [\r\n",
    "  'com.whatsapp'\r\n",
    "]\r\n",
    "app_reviews = []\r\n",
    "\r\n",
    "# Loop through all the app packages and collect review for each of them\r\n",
    "for ap in app_packages:\r\n",
    "    for score in list(range(1, 6)):\r\n",
    "        for sort_order in [Sort.MOST_RELEVANT, Sort.NEWEST]:\r\n",
    "            rvs, _ = reviews(\r\n",
    "                ap,\r\n",
    "                lang='en',\r\n",
    "                country='us',\r\n",
    "                sort=sort_order,\r\n",
    "                count=200,\r\n",
    "                filter_score_with=score\r\n",
    "            )\r\n",
    "        for r in rvs:\r\n",
    "            r['sortOrder'] = 'most_relevant' if sort_order == Sort.MOST_RELEVANT else 'newest'\r\n",
    "            r['appId'] = ap\r\n",
    "\r\n",
    "        app_reviews.extend(rvs)"
   ],
   "outputs": [],
   "metadata": {}
  },
  {
   "cell_type": "code",
   "execution_count": 16,
   "source": [
    "app_reviews_df = pd.DataFrame(app_reviews)\r\n",
    "app_reviews_df.to_csv('reviews.csv', index=None, header=True)"
   ],
   "outputs": [],
   "metadata": {}
  }
 ],
 "metadata": {
  "orig_nbformat": 4,
  "language_info": {
   "name": "python",
   "version": "3.8.11",
   "mimetype": "text/x-python",
   "codemirror_mode": {
    "name": "ipython",
    "version": 3
   },
   "pygments_lexer": "ipython3",
   "nbconvert_exporter": "python",
   "file_extension": ".py"
  },
  "kernelspec": {
   "name": "python3",
   "display_name": "Python 3.8.11 64-bit ('unpaid': conda)"
  },
  "interpreter": {
   "hash": "3dbff40183676622c101b5bcc1d6adf1c4ef4effe3274b7be2981d17309fb5c9"
  }
 },
 "nbformat": 4,
 "nbformat_minor": 2
}