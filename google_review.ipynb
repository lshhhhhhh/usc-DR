{
 "cells": [
  {
   "cell_type": "code",
   "execution_count": 4,
   "metadata": {},
   "outputs": [],
   "source": [
    "from google_play_scraper import Sort, reviews, app\n",
    "import pandas as pd\n",
    "#https://github.com/JoMingyu/google-play-scraper"
   ]
  },
  {
   "cell_type": "code",
   "execution_count": 8,
   "metadata": {},
   "outputs": [
    {
     "data": {
      "text/plain": [
       "30"
      ]
     },
     "execution_count": 8,
     "metadata": {},
     "output_type": "execute_result"
    }
   ],
   "source": [
    "app_packages = [\n",
    "  'com.whatsapp', #whatsapp\n",
    "  'com.microsoft.office.excel',#excel\n",
    "  'com.discord',#discord\n",
    "  'us.zoom.videomeetings',#zoom\n",
    "  'com.pinterest',#pininterest\n",
    "  'com.skype.raider', #skype\n",
    "  'com.snapchat.android',#snapchat\n",
    "  'com.zhiliaoapp.musically',#tiktok\n",
    "  'com.linkedin.android',#linkedin\n",
    "  'com.robinhood.android',#robinhood\n",
    "  'com.infonow.bofa',#bank of america\n",
    "  'com.instacart.client',#instacart\n",
    "  'com.google.android.apps.youtube.music',#youtube music\n",
    "  'com.venmo',#venmo\n",
    "  'me.lyft.android',#lyft\n",
    "  'com.dd.doordash',#doordash\n",
    "  'com.ubercab.eats',#uber eats\n",
    "  'com.grubhub.android',#grubhub\n",
    "  'com.netflix.mediaclient',#netflix\n",
    "  'com.zellepay.zelle',#zelle\n",
    "  'com.audible.application',#audible\n",
    "  'com.grammarly.android.keyboard',#grammarly\n",
    "  'com.valvesoftware.android.steam.community',#steam\n",
    "  'com.starbucks.mobilecard',#starbucks\n",
    "  'tv.twitch.android.app',#twitch\n",
    "  'com.twitter.android',#twitter\n",
    "  'com.ubercab',#uber\n",
    "  'com.facebook.katana',#facebook\n",
    "  'com.google.android.apps.magazines',#google magzines\n",
    "  'com.dropbox.android',#dropbox\n",
    "]\n",
    "len(app_packages)"
   ]
  },
  {
   "cell_type": "code",
   "execution_count": 7,
   "metadata": {},
   "outputs": [],
   "source": [
    "\n",
    "app_reviews = []\n",
    "\n",
    "# Loop through all the app packages and collect review for each of them\n",
    "for ap in app_packages:\n",
    "    #choose 300 1-2 stars reviews. it is the representative sample for any appps with over 10,000 rewviews\n",
    "    for score in list(range(1, 3)):\n",
    "        for sort_order in [Sort.MOST_RELEVANT, Sort.NEWEST]:\n",
    "            rvs, _ = reviews(\n",
    "                ap,\n",
    "                lang='en',\n",
    "                country='us',\n",
    "                sort=sort_order,\n",
    "                count=300,\n",
    "                filter_score_with=score\n",
    "            )\n",
    "        for r in rvs:\n",
    "            r['sortOrder'] = 'most_relevant' if sort_order == Sort.MOST_RELEVANT else 'newest'\n",
    "            r['appId'] = ap\n",
    "\n",
    "        app_reviews.extend(rvs)\n",
    "\n",
    "    app_reviews_df = pd.DataFrame(app_reviews)\n",
    "    app_reviews_df.to_csv(ap+'_reviews.csv', index=None, header=True)\n",
    "        \n"
   ]
  },
  {
   "cell_type": "code",
   "execution_count": 6,
   "metadata": {},
   "outputs": [],
   "source": []
  }
 ],
 "metadata": {
  "interpreter": {
   "hash": "3dbff40183676622c101b5bcc1d6adf1c4ef4effe3274b7be2981d17309fb5c9"
  },
  "kernelspec": {
   "display_name": "Python 3.8.11 64-bit ('unpaid': conda)",
   "name": "python3"
  },
  "language_info": {
   "codemirror_mode": {
    "name": "ipython",
    "version": 3
   },
   "file_extension": ".py",
   "mimetype": "text/x-python",
   "name": "python",
   "nbconvert_exporter": "python",
   "pygments_lexer": "ipython3",
   "version": "3.8.11"
  },
  "orig_nbformat": 4
 },
 "nbformat": 4,
 "nbformat_minor": 2
}
