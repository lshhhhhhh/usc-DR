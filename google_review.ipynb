{
 "cells": [
  {
   "cell_type": "code",
   "execution_count": 1,
   "metadata": {},
   "outputs": [],
   "source": [
    "from google_play_scraper import Sort, reviews, app\n",
    "import pandas as pd\n",
    "#https://github.com/JoMingyu/google-play-scraper"
   ]
  },
  {
   "cell_type": "code",
   "execution_count": 15,
   "metadata": {},
   "outputs": [],
   "source": [
    "app_packages = [\n",
    "  'com.whatsapp'\n",
    "]\n",
    "app_reviews = []\n",
    "\n",
    "# Loop through all the app packages and collect review for each of them\n",
    "for ap in app_packages:\n",
    "    for score in list(range(1, 6)):\n",
    "        for sort_order in [Sort.MOST_RELEVANT, Sort.NEWEST]:\n",
    "            rvs, _ = reviews(\n",
    "                ap,\n",
    "                lang='en',\n",
    "                country='us',\n",
    "                sort=sort_order,\n",
    "                count=200,\n",
    "                filter_score_with=score\n",
    "            )\n",
    "        for r in rvs:\n",
    "            r['sortOrder'] = 'most_relevant' if sort_order == Sort.MOST_RELEVANT else 'newest'\n",
    "            r['appId'] = ap\n",
    "\n",
    "        app_reviews.extend(rvs)"
   ]
  },
  {
   "cell_type": "code",
   "execution_count": 16,
   "metadata": {},
   "outputs": [],
   "source": [
    "app_reviews_df = pd.DataFrame(app_reviews)\n",
    "app_reviews_df.to_csv('reviews.csv', index=None, header=True)"
   ]
  }
 ],
 "metadata": {
  "interpreter": {
   "hash": "3dbff40183676622c101b5bcc1d6adf1c4ef4effe3274b7be2981d17309fb5c9"
  },
  "kernelspec": {
   "display_name": "Python 3.8.11 64-bit ('unpaid': conda)",
   "name": "python3"
  },
  "language_info": {
   "codemirror_mode": {
    "name": "ipython",
    "version": 3
   },
   "file_extension": ".py",
   "mimetype": "text/x-python",
   "name": "python",
   "nbconvert_exporter": "python",
   "pygments_lexer": "ipython3",
   "version": "3.8.11"
  },
  "orig_nbformat": 4
 },
 "nbformat": 4,
 "nbformat_minor": 2
}
